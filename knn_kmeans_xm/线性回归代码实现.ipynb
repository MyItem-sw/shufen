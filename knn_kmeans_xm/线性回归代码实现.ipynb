{
 "cells": [
  {
   "cell_type": "code",
   "execution_count": 3,
   "metadata": {
    "collapsed": true
   },
   "outputs": [],
   "source": [
    "# 所用sklearn库\n",
    "# 映入sklearn，主要是用里边的线性回归模块\n",
    "from sklearn import datasets,linear_model\n",
    "# train_test_split是用来把数据集拆分成为训练集和测试集\n",
    "from sklearn.model_selection import train_test_split\n",
    "\n",
    "import numpy as np\n",
    "import matplotlib.pyplot as plt"
   ]
  },
  {
   "cell_type": "code",
   "execution_count": 4,
   "metadata": {},
   "outputs": [
    {
     "data": {
      "text/plain": [
       "array([[151,  51],\n",
       "       [156,  53],\n",
       "       [160,  61],\n",
       "       [164,  59],\n",
       "       [168,  62],\n",
       "       [172,  60],\n",
       "       [176,  68],\n",
       "       [180,  70],\n",
       "       [184,  75],\n",
       "       [188,  80]])"
      ]
     },
     "execution_count": 4,
     "metadata": {},
     "output_type": "execute_result"
    }
   ],
   "source": [
    "## 创建数据集，把数据写入到numpy数组中\n",
    "data = np.array([[151,51],\n",
    "                [156,53],\n",
    "                [160,61],\n",
    "                [164,59],\n",
    "                [168,62],\n",
    "                 [172,60],\n",
    "                 [176,68],\n",
    "                 [180,70],\n",
    "                 [184,75],\n",
    "                 [188,80]\n",
    "                ])\n",
    "data"
   ]
  },
  {
   "cell_type": "code",
   "execution_count": 5,
   "metadata": {
    "collapsed": true
   },
   "outputs": [],
   "source": [
    "# X，y是分别存储放特征向量和标签\n",
    "# 这里边使用了reshape(-1，1),（任意行，1列）其主要原因是data[:,0]是一维的数组(因为只有一个特征),但后边调用模型的时候对特征向量的要求是\n",
    "# 矩阵的形式，所以这里所了reshape的操作\n",
    "X,y=data[:,0].reshape(-1,1),data[:,1]"
   ]
  },
  {
   "cell_type": "code",
   "execution_count": 6,
   "metadata": {},
   "outputs": [
    {
     "data": {
      "text/plain": [
       "array([[151],\n",
       "       [156],\n",
       "       [160],\n",
       "       [164],\n",
       "       [168],\n",
       "       [172],\n",
       "       [176],\n",
       "       [180],\n",
       "       [184],\n",
       "       [188]])"
      ]
     },
     "execution_count": 6,
     "metadata": {},
     "output_type": "execute_result"
    }
   ],
   "source": [
    "X"
   ]
  },
  {
   "cell_type": "code",
   "execution_count": 7,
   "metadata": {},
   "outputs": [
    {
     "data": {
      "text/plain": [
       "array([51, 53, 61, 59, 62, 60, 68, 70, 75, 80])"
      ]
     },
     "execution_count": 7,
     "metadata": {},
     "output_type": "execute_result"
    }
   ],
   "source": [
    "y"
   ]
  },
  {
   "cell_type": "code",
   "execution_count": 8,
   "metadata": {},
   "outputs": [
    {
     "name": "stderr",
     "output_type": "stream",
     "text": [
      "D:\\Anaconda\\envs\\py36\\lib\\site-packages\\sklearn\\model_selection\\_split.py:2069: FutureWarning: From version 0.21, test_size will always complement train_size unless both are specified.\n",
      "  FutureWarning)\n"
     ]
    }
   ],
   "source": [
    "# 用train_test_split函数把数据随机分成训练数据和测试数据\n",
    "# 训练数据的占比是由train_size这个参数来决定的。 \n",
    "# 如果是0.8就意味着随机抽取80%的数据作为训练集\n",
    "\n",
    "X_train,X_test,y_train,y_test = train_test_split(X,y,train_size=0.8)"
   ]
  },
  {
   "cell_type": "code",
   "execution_count": 9,
   "metadata": {},
   "outputs": [
    {
     "data": {
      "text/plain": [
       "array([[168],\n",
       "       [184],\n",
       "       [172],\n",
       "       [176],\n",
       "       [156],\n",
       "       [164],\n",
       "       [160],\n",
       "       [180]])"
      ]
     },
     "execution_count": 9,
     "metadata": {},
     "output_type": "execute_result"
    }
   ],
   "source": [
    "X_train"
   ]
  },
  {
   "cell_type": "code",
   "execution_count": 22,
   "metadata": {},
   "outputs": [
    {
     "data": {
      "text/plain": [
       "array([[151],\n",
       "       [188]])"
      ]
     },
     "execution_count": 22,
     "metadata": {},
     "output_type": "execute_result"
    }
   ],
   "source": [
    "X_test"
   ]
  },
  {
   "cell_type": "code",
   "execution_count": 23,
   "metadata": {},
   "outputs": [
    {
     "data": {
      "text/plain": [
       "array([62, 75, 60, 68, 53, 59, 61, 70])"
      ]
     },
     "execution_count": 23,
     "metadata": {},
     "output_type": "execute_result"
    }
   ],
   "source": [
    "y_train"
   ]
  },
  {
   "cell_type": "code",
   "execution_count": 12,
   "metadata": {},
   "outputs": [
    {
     "data": {
      "text/plain": [
       "LinearRegression(copy_X=True, fit_intercept=True, n_jobs=None,\n",
       "         normalize=False)"
      ]
     },
     "execution_count": 12,
     "metadata": {},
     "output_type": "execute_result"
    }
   ],
   "source": [
    "# 实例化一个线性回归的模型\n",
    "regr = linear_model.LinearRegression()\n",
    "# 拟合给定的数据\n",
    "regr.fit(X_train,y_train)"
   ]
  },
  {
   "cell_type": "code",
   "execution_count": 20,
   "metadata": {},
   "outputs": [
    {
     "data": {
      "text/plain": [
       "0.8631984585741812"
      ]
     },
     "execution_count": 20,
     "metadata": {},
     "output_type": "execute_result"
    }
   ],
   "source": [
    "# 在训练集上做验证，并观察是否训练得当，首先输出训练集上的决定系数R平方值\n",
    "regr.score(X_train,y_train)"
   ]
  },
  {
   "cell_type": "code",
   "execution_count": 21,
   "metadata": {},
   "outputs": [
    {
     "data": {
      "text/plain": [
       "array([62.16666667, 72.83333333, 64.83333333, 67.5       , 54.16666667,\n",
       "       59.5       , 56.83333333, 70.16666667])"
      ]
     },
     "execution_count": 21,
     "metadata": {},
     "output_type": "execute_result"
    }
   ],
   "source": [
    "regr.predict(X_train)"
   ]
  },
  {
   "cell_type": "markdown",
   "metadata": {},
   "source": [
    "# 可视化"
   ]
  },
  {
   "cell_type": "code",
   "execution_count": 17,
   "metadata": {},
   "outputs": [
    {
     "data": {
      "image/png": "[encoded data removed]",
      "text/plain": [
       "<Figure size 432x288 with 1 Axes>"
      ]
     },
     "metadata": {},
     "output_type": "display_data"
    }
   ],
   "source": [
    "font = {\n",
    "    \"family\":\"SimHei\",\n",
    "    \"size\":\"20\"\n",
    "}\n",
    "plt.rc(\"font\",**font)\n",
    "\n",
    "# 首先画给定的训练数据\n",
    "plt.scatter(X_train,y_train,color='blue')\n",
    "# 画线\n",
    "plt.plot(X_train,regr.predict(X_train),color='red')\n",
    "\n",
    "# 画出测试数据\n",
    "plt.scatter(X_test,y_test,color='green')\n",
    "\n",
    "plt.xlabel(\"身高(cm)\")\n",
    "plt.ylabel('体重(kg)')\n",
    "plt.show()"
   ]
  },
  {
   "cell_type": "code",
   "execution_count": 18,
   "metadata": {},
   "outputs": [
    {
     "data": {
      "text/plain": [
       "0.9517769850706831"
      ]
     },
     "execution_count": 18,
     "metadata": {},
     "output_type": "execute_result"
    }
   ],
   "source": [
    "## 输出一下在测试集上的R平方值\n",
    "regr.score(X_test,y_test)"
   ]
  },
  {
   "cell_type": "code",
   "execution_count": 19,
   "metadata": {},
   "outputs": [
    {
     "data": {
      "text/plain": [
       "array([58.83333333])"
      ]
     },
     "execution_count": 19,
     "metadata": {},
     "output_type": "execute_result"
    }
   ],
   "source": [
    "regr.predict([[163]])"
   ]
  },
  {
   "cell_type": "code",
   "execution_count": null,
   "metadata": {
    "collapsed": true
   },
   "outputs": [],
   "source": []
  }
 ],
 "metadata": {
  "kernelspec": {
   "display_name": "Python 3",
   "language": "python",
   "name": "python3"
  },
  "language_info": {
   "codemirror_mode": {
    "name": "ipython",
    "version": 3
   },
   "file_extension": ".py",
   "mimetype": "text/x-python",
   "name": "python",
   "nbconvert_exporter": "python",
   "pygments_lexer": "ipython3",
   "version": "3.6.1"
  }
 },
 "nbformat": 4,
 "nbformat_minor": 2
}
